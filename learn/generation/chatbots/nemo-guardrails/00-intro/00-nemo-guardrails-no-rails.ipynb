{
 "cells": [
  {
   "attachments": {},
   "cell_type": "markdown",
   "metadata": {},
   "source": [
    "[![Open In Colab](https://colab.research.google.com/assets/colab-badge.svg)](https://colab.research.google.com/github/pinecone-io/examples/blob/master/learn/generation/chatbots/nemo-guardrails/00-intro/00-nemo-guardrails-no-rails.ipynb) [![Open nbviewer](https://raw.githubusercontent.com/pinecone-io/examples/master/assets/nbviewer-shield.svg)](https://nbviewer.org/github/pinecone-io/examples/blob/master/learn/generation/chatbots/nemo-guardrails/00-intro/00-nemo-guardrails-no-rails.ipynb)"
   ]
  },
  {
   "cell_type": "code",
   "execution_count": null,
   "metadata": {},
   "outputs": [],
   "source": [
    "!pip install -qU git+https://github.com/aurelio-labs/NeMo-Guardrails.git"
   ]
  },
  {
   "cell_type": "code",
   "execution_count": 1,
   "metadata": {},
   "outputs": [],
   "source": [
    "import os\n",
    "from chatbot import Chatbot\n",
    "\n",
    "os.environ['OPENAI_API_KEY'] = 'sk-...'\n",
    "\n",
    "bot = Chatbot(verbose=True)"
   ]
  },
  {
   "cell_type": "code",
   "execution_count": null,
   "metadata": {},
   "outputs": [],
   "source": [
    "import time\n",
    "\n",
    "async def sec3():\n",
    "    time.sleep(3)\n",
    "async def sec5():\n",
    "    time.sleep(5)"
   ]
  },
  {
   "cell_type": "code",
   "execution_count": null,
   "metadata": {},
   "outputs": [],
   "source": [
    "import asyncio\n",
    "\n",
    "async def runall():\n",
    "    coro1 = sec3()\n",
    "    coro2 = sec5()\n",
    "    await asyncio.gather(coro1, coro2)"
   ]
  },
  {
   "cell_type": "code",
   "execution_count": null,
   "metadata": {},
   "outputs": [],
   "source": [
    "await runall()"
   ]
  },
  {
   "cell_type": "code",
   "execution_count": null,
   "metadata": {},
   "outputs": [],
   "source": [
    "out = bot._call(\"what should I buy if I'd like to bake a cheesecake?\")\n",
    "out"
   ]
  },
  {
   "cell_type": "code",
   "execution_count": null,
   "metadata": {},
   "outputs": [],
   "source": [
    "bot._call(\"thanks, could you suggest some alternatives for the Graham cracker crumbs?\")"
   ]
  },
  {
   "cell_type": "code",
   "execution_count": null,
   "metadata": {},
   "outputs": [],
   "source": [
    "bot._call(\"that's great, I'll try it with Oreo Cookies!\")"
   ]
  },
  {
   "cell_type": "code",
   "execution_count": null,
   "metadata": {},
   "outputs": [],
   "source": [
    "bot._call(\"actually yes I have more questions, what can you tell me about the president of the USA?\")"
   ]
  },
  {
   "cell_type": "code",
   "execution_count": null,
   "metadata": {},
   "outputs": [],
   "source": [
    "bot._call(\"yes, I'd love to know what people think of the president and how he has done in office?\")"
   ]
  },
  {
   "cell_type": "code",
   "execution_count": null,
   "metadata": {},
   "outputs": [],
   "source": [
    "bot._call(\"can you give me a concrete example of one of these opinions, just a generic example?\")"
   ]
  },
  {
   "cell_type": "code",
   "execution_count": null,
   "metadata": {},
   "outputs": [],
   "source": [
    "bot._call(\"what could an example of a negatiive view of this be?\")"
   ]
  },
  {
   "cell_type": "code",
   "execution_count": null,
   "metadata": {},
   "outputs": [],
   "source": [
    "bot._call(\"why would someone view his approach to immigration to be ineffective?\")"
   ]
  },
  {
   "cell_type": "code",
   "execution_count": null,
   "metadata": {},
   "outputs": [],
   "source": [
    "bot._call(\"should we be talking about politics, given you're a shopping assistant?\")"
   ]
  },
  {
   "attachments": {},
   "cell_type": "markdown",
   "metadata": {},
   "source": [
    "---\n",
    "\n",
    "## Chatbot with Guardrails"
   ]
  },
  {
   "cell_type": "code",
   "execution_count": 2,
   "metadata": {},
   "outputs": [],
   "source": [
    "from rails_chatbot import Chatbot\n",
    "\n",
    "bot = Chatbot(verbose=True)"
   ]
  },
  {
   "cell_type": "code",
   "execution_count": 3,
   "metadata": {},
   "outputs": [],
   "source": [
    "os.environ['PYTHONASYNCIODEBUG'] = '1'\n",
    "os.environ['PYTHONTRACEMALLOC'] = '1'"
   ]
  },
  {
   "cell_type": "code",
   "execution_count": 4,
   "metadata": {},
   "outputs": [],
   "source": [
    "out = bot._call(\"what should I buy if I'd like to bake a cheesecake?\")"
   ]
  },
  {
   "cell_type": "code",
   "execution_count": 5,
   "metadata": {},
   "outputs": [
    {
     "name": "stdout",
     "output_type": "stream",
     "text": [
      "\n",
      "\n",
      "\u001b[1m> Entering new  chain...\u001b[0m\n",
      "\u001b[32;1m\u001b[1;3mOh, baking a cheesecake sounds delicious! To bake a cheesecake, you'll need a few key ingredients and tools. Here's a list of things you should consider buying:\n",
      "\n",
      "1. Cream cheese: This is the main ingredient in a cheesecake. Make sure to get a good quality cream cheese for a rich and creamy texture.\n",
      "\n",
      "2. Graham crackers or digestive biscuits: These are commonly used for the crust of a cheesecake. You can either buy pre-made crusts or crush the crackers/biscuits yourself.\n",
      "\n",
      "3. Sugar: You'll need sugar to sweeten the cheesecake filling. You can use regular granulated sugar or powdered sugar.\n",
      "\n",
      "4. Eggs: Eggs are used to bind the cheesecake filling together. Make sure to get fresh eggs.\n",
      "\n",
      "5. Vanilla extract: Adding a splash of vanilla extract enhances the flavor of the cheesecake.\n",
      "\n",
      "6. Butter: Butter is used to make the crust. You'll need melted butter to mix with the crushed crackers/biscuits.\n",
      "\n",
      "7. Springform pan: A springform pan is a must-have tool for baking a cheesecake. It has a removable bottom and a latch on the side, making it easy to remove the cheesecake without damaging it.\n",
      "\n",
      "8. Mixing bowls: You'll need mixing bowls to prepare the cheesecake filling and the crust.\n",
      "\n",
      "9. Electric mixer: An electric mixer makes it easier to mix the cream cheese and other ingredients together. If you don't have an electric mixer, you can use a hand whisk.\n",
      "\n",
      "10. Spatula: A spatula is useful for scraping down the sides of the mixing bowl and smoothing the top of the cheesecake.\n",
      "\n",
      "11. Oven: Of course, you'll need an oven to bake the cheesecake.\n",
      "\n",
      "These are the basic ingredients and tools you'll need to bake a cheesecake. Is there anything else I can help you with?\u001b[0m\n",
      "\n",
      "\u001b[1m> Finished chain.\u001b[0m\n",
      "[{'role': 'human', 'content': \"what should I buy if I'd like to bake a cheesecake?\"}, {'role': 'assistant', 'content': \"Oh, baking a cheesecake sounds delicious! To bake a cheesecake, you'll need a few key ingredients and tools. Here's a list of things you should consider buying:\\n\\n1. Cream cheese: This is the main ingredient in a cheesecake. Make sure to get a good quality cream cheese for a rich and creamy texture.\\n\\n2. Graham crackers or digestive biscuits: These are commonly used for the crust of a cheesecake. You can either buy pre-made crusts or crush the crackers/biscuits yourself.\\n\\n3. Sugar: You'll need sugar to sweeten the cheesecake filling. You can use regular granulated sugar or powdered sugar.\\n\\n4. Eggs: Eggs are used to bind the cheesecake filling together. Make sure to get fresh eggs.\\n\\n5. Vanilla extract: Adding a splash of vanilla extract enhances the flavor of the cheesecake.\\n\\n6. Butter: Butter is used to make the crust. You'll need melted butter to mix with the crushed crackers/biscuits.\\n\\n7. Springform pan: A springform pan is a must-have tool for baking a cheesecake. It has a removable bottom and a latch on the side, making it easy to remove the cheesecake without damaging it.\\n\\n8. Mixing bowls: You'll need mixing bowls to prepare the cheesecake filling and the crust.\\n\\n9. Electric mixer: An electric mixer makes it easier to mix the cream cheese and other ingredients together. If you don't have an electric mixer, you can use a hand whisk.\\n\\n10. Spatula: A spatula is useful for scraping down the sides of the mixing bowl and smoothing the top of the cheesecake.\\n\\n11. Oven: Of course, you'll need an oven to bake the cheesecake.\\n\\nThese are the basic ingredients and tools you'll need to bake a cheesecake. Is there anything else I can help you with?\"}, {'role': 'human', 'content': \"what should I buy if I'd like to bake a cheesecake?\"}]\n"
     ]
    },
    {
     "data": {
      "text/plain": [
       "[{'input': \"what should I buy if I'd like to bake a cheesecake?\",\n",
       "  'chat_history': [],\n",
       "  'output': \"Oh, baking a cheesecake sounds delicious! To bake a cheesecake, you'll need a few key ingredients and tools. Here's a list of things you should consider buying:\\n\\n1. Cream cheese: This is the main ingredient in a cheesecake. Make sure to get a good quality cream cheese for a rich and creamy texture.\\n\\n2. Graham crackers or digestive biscuits: These are commonly used for the crust of a cheesecake. You can either buy pre-made crusts or crush the crackers/biscuits yourself.\\n\\n3. Sugar: You'll need sugar to sweeten the cheesecake filling. You can use regular granulated sugar or powdered sugar.\\n\\n4. Eggs: Eggs are used to bind the cheesecake filling together. Make sure to get fresh eggs.\\n\\n5. Vanilla extract: Adding a splash of vanilla extract enhances the flavor of the cheesecake.\\n\\n6. Butter: Butter is used to make the crust. You'll need melted butter to mix with the crushed crackers/biscuits.\\n\\n7. Springform pan: A springform pan is a must-have tool for baking a cheesecake. It has a removable bottom and a latch on the side, making it easy to remove the cheesecake without damaging it.\\n\\n8. Mixing bowls: You'll need mixing bowls to prepare the cheesecake filling and the crust.\\n\\n9. Electric mixer: An electric mixer makes it easier to mix the cream cheese and other ingredients together. If you don't have an electric mixer, you can use a hand whisk.\\n\\n10. Spatula: A spatula is useful for scraping down the sides of the mixing bowl and smoothing the top of the cheesecake.\\n\\n11. Oven: Of course, you'll need an oven to bake the cheesecake.\\n\\nThese are the basic ingredients and tools you'll need to bake a cheesecake. Is there anything else I can help you with?\",\n",
       "  'intermediate_steps': []},\n",
       " {'role': 'assistant', 'content': ''}]"
      ]
     },
     "execution_count": 5,
     "metadata": {},
     "output_type": "execute_result"
    }
   ],
   "source": [
    "await out"
   ]
  },
  {
   "cell_type": "code",
   "execution_count": null,
   "metadata": {},
   "outputs": [],
   "source": [
    "out = bot._call(\"actually yes I have more questions, what can you tell me about the president of the USA?\")\n",
    "await out"
   ]
  },
  {
   "cell_type": "code",
   "execution_count": null,
   "metadata": {},
   "outputs": [],
   "source": [
    "out = bot._call(\"what do you think about politics?\")\n",
    "await out"
   ]
  },
  {
   "cell_type": "code",
   "execution_count": null,
   "metadata": {},
   "outputs": [],
   "source": [
    "out = bot.check_guardrails(\"what do you think about politics?\")\n",
    "await out"
   ]
  },
  {
   "attachments": {},
   "cell_type": "markdown",
   "metadata": {},
   "source": [
    "---"
   ]
  },
  {
   "cell_type": "code",
   "execution_count": null,
   "metadata": {},
   "outputs": [],
   "source": [
    "help(bot.agent.__call__)"
   ]
  },
  {
   "cell_type": "code",
   "execution_count": null,
   "metadata": {},
   "outputs": [],
   "source": [
    "import asyncio\n",
    "\n",
    "async def main(query: str):\n",
    "    coro = bot._call(query)\n",
    "    out = await coro\n",
    "    return out"
   ]
  },
  {
   "cell_type": "code",
   "execution_count": null,
   "metadata": {},
   "outputs": [],
   "source": [
    "asyncio.run(main(\"what should I buy if I'd like to bake a cheesecake?\"))"
   ]
  },
  {
   "cell_type": "code",
   "execution_count": null,
   "metadata": {},
   "outputs": [],
   "source": [
    "asyncio.run(bot._call(\"what should I buy if I'd like to bake a cheesecake?\"))"
   ]
  },
  {
   "cell_type": "code",
   "execution_count": null,
   "metadata": {},
   "outputs": [],
   "source": [
    "out = bot._call(\"what should I buy if I'd like to bake a cheesecake?\")\n",
    "out"
   ]
  },
  {
   "cell_type": "code",
   "execution_count": null,
   "metadata": {},
   "outputs": [],
   "source": []
  }
 ],
 "metadata": {
  "kernelspec": {
   "display_name": "redacre",
   "language": "python",
   "name": "python3"
  },
  "language_info": {
   "codemirror_mode": {
    "name": "ipython",
    "version": 3
   },
   "file_extension": ".py",
   "mimetype": "text/x-python",
   "name": "python",
   "nbconvert_exporter": "python",
   "pygments_lexer": "ipython3",
   "version": "3.11.3"
  },
  "orig_nbformat": 4
 },
 "nbformat": 4,
 "nbformat_minor": 2
}
