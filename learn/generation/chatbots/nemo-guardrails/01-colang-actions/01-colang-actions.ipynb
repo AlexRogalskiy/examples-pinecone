{
 "cells": [
  {
   "attachments": {},
   "cell_type": "markdown",
   "metadata": {},
   "source": [
    "[![Open In Colab](https://colab.research.google.com/assets/colab-badge.svg)](https://colab.research.google.com/github/pinecone-io/examples/blob/master/learn/generation/chatbots/nemo-guardrails/01-colang-actions/example.ipynb) [![Open nbviewer](https://raw.githubusercontent.com/pinecone-io/examples/master/assets/nbviewer-shield.svg)](https://nbviewer.org/github/pinecone-io/examples/blob/master/learn/generation/chatbots/nemo-guardrails/01-colang-actions/example.ipynb)"
   ]
  },
  {
   "attachments": {},
   "cell_type": "markdown",
   "metadata": {},
   "source": [
    "# Adding Actions\n",
    "\n",
    "In Guardrails we can add _actions_ to our colang files. These actions allow us to execute code, for example:\n",
    "\n",
    "```\n",
    "define flow\n",
    "    user ask question\n",
    "    $answer = execute qa_func(prompt=$last_user_message)\n",
    "    bot $answer\n",
    "```\n",
    "\n",
    "In this Colang flow we expect the user to ask some question (`user ask question`), if so we run an _action_ (equivalent to a Python function) called `qa_func`, we also pass the `$last_user_message` to this function via the function's `prompt` parameter.\n",
    "\n",
    "The function/action returns a value which we store in the `$answer` variable, we then tell the bot to return this answer to the user (`bot $answer`).\n",
    "\n",
    "Let's take a look at an example colang file for this:"
   ]
  },
  {
   "cell_type": "code",
   "execution_count": 21,
   "metadata": {},
   "outputs": [
    {
     "name": "stdout",
     "output_type": "stream",
     "text": [
      "# define limits\n",
      "define user ask politics\n",
      "    \"what are your political beliefs?\"\n",
      "    \"thoughts on the president?\"\n",
      "    \"left wing\"\n",
      "    \"right wing\"\n",
      "\n",
      "define bot answer politics\n",
      "    \"I'm a shopping assistant, I don't like to talk of politics.\"\n",
      "    \"Sorry I can't talk about politics!\"\n",
      "\n",
      "define flow politics\n",
      "    user ask politics\n",
      "    bot answer politics\n",
      "    bot offer help\n",
      "\n",
      "# here we use the chatbot for anything else\n",
      "define flow\n",
      "    user ...\n",
      "    $answer = execute llm(inputs=$last_user_message)\n",
      "    bot $answer\n"
     ]
    }
   ],
   "source": [
    "with open('./config/actions.co', 'r') as f:\n",
    "    colang = f.read()\n",
    "print(colang)"
   ]
  },
  {
   "attachments": {},
   "cell_type": "markdown",
   "metadata": {},
   "source": [
    "Here we have our typical guardrail for any politcal talk. Anything else will get captured by the _catch all_ statement of `user ...` — triggering the final flow.\n",
    "\n",
    "Within that final flow we execute the `response` function and pass the `last_user_message` via the `inputs` parameter. By itself, this won't do anything, we need to tell Guardrails what this action/function is. Let's begin by initializing our rails."
   ]
  },
  {
   "cell_type": "code",
   "execution_count": 22,
   "metadata": {},
   "outputs": [],
   "source": [
    "from nemoguardrails import LLMRails, RailsConfig\n",
    "\n",
    "# initialize rails config\n",
    "config = RailsConfig.from_path('./config')\n",
    "# create rails\n",
    "rails = LLMRails(config, verbose=True)"
   ]
  },
  {
   "attachments": {},
   "cell_type": "markdown",
   "metadata": {},
   "source": [
    "Let's try our guardrails..."
   ]
  },
  {
   "cell_type": "code",
   "execution_count": 24,
   "metadata": {},
   "outputs": [
    {
     "data": {
      "text/plain": [
       "\"Action 'response' not found.\""
      ]
     },
     "execution_count": 24,
     "metadata": {},
     "output_type": "execute_result"
    }
   ],
   "source": [
    "await rails.generate_async(prompt=\"hello\")"
   ]
  },
  {
   "attachments": {},
   "cell_type": "markdown",
   "metadata": {},
   "source": [
    "The `response` action couldn't be found. That makes sense we haven't defined anything yet, so let's initialize a function to act as our `response` action."
   ]
  },
  {
   "cell_type": "code",
   "execution_count": 27,
   "metadata": {},
   "outputs": [],
   "source": [
    "async def func(inputs: str):\n",
    "    return \"hello you are an orange\""
   ]
  },
  {
   "attachments": {},
   "cell_type": "markdown",
   "metadata": {},
   "source": [
    "This won't do anything other than tell us we're oranges, but that's fine for this example. Guardrails still doesn't know that this is the correct action to use though:"
   ]
  },
  {
   "cell_type": "code",
   "execution_count": 28,
   "metadata": {},
   "outputs": [
    {
     "data": {
      "text/plain": [
       "\"Action 'response' not found.\""
      ]
     },
     "execution_count": 28,
     "metadata": {},
     "output_type": "execute_result"
    }
   ],
   "source": [
    "await rails.generate_async(prompt=\"hello\")"
   ]
  },
  {
   "attachments": {},
   "cell_type": "markdown",
   "metadata": {},
   "source": [
    "That's because we need to register the action like so:"
   ]
  },
  {
   "cell_type": "code",
   "execution_count": 29,
   "metadata": {},
   "outputs": [],
   "source": [
    "rails.register_action(action=func, name=\"response\")"
   ]
  },
  {
   "attachments": {},
   "cell_type": "markdown",
   "metadata": {},
   "source": [
    "Now we can try again:"
   ]
  },
  {
   "cell_type": "code",
   "execution_count": 30,
   "metadata": {},
   "outputs": [
    {
     "data": {
      "text/plain": [
       "'hello you are an orange'"
      ]
     },
     "execution_count": 30,
     "metadata": {},
     "output_type": "execute_result"
    }
   ],
   "source": [
    "await rails.generate_async(prompt=\"hello\")"
   ]
  },
  {
   "attachments": {},
   "cell_type": "markdown",
   "metadata": {},
   "source": [
    "Perfect, that's the essentials behind using actions in Guardrails. One thing to note here is that we used `async def` to define our action function. If using async Guardrails we do need this otherwise we'll raise a async/await error in Python."
   ]
  }
 ],
 "metadata": {
  "kernelspec": {
   "display_name": "redacre",
   "language": "python",
   "name": "python3"
  },
  "language_info": {
   "codemirror_mode": {
    "name": "ipython",
    "version": 3
   },
   "file_extension": ".py",
   "mimetype": "text/x-python",
   "name": "python",
   "nbconvert_exporter": "python",
   "pygments_lexer": "ipython3",
   "version": "3.11.3"
  },
  "orig_nbformat": 4
 },
 "nbformat": 4,
 "nbformat_minor": 2
}
