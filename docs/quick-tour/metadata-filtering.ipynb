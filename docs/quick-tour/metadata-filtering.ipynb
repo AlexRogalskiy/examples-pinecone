{
  "cells": [
    {
      "cell_type": "markdown",
      "id": "2c05da4b",
      "metadata": {
        "id": "2c05da4b"
      },
      "source": [
        "[![Open In Colab](https://colab.research.google.com/assets/colab-badge.svg)](https://colab.research.google.com/github/pinecone-io/examples/blob/master/docs/quick-tour/metadata-filtering.ipynb) [![Open nbviewer](https://raw.githubusercontent.com/pinecone-io/examples/master/assets/nbviewer-shield.svg)](https://nbviewer.org/github/pinecone-io/examples/blob/master/docs/quick-tour/metadata-filtering.ipynb)"
      ]
    },
    {
      "cell_type": "markdown",
      "id": "artificial-devil",
      "metadata": {
        "id": "artificial-devil",
        "papermill": {
          "duration": 0.037678,
          "end_time": "2021-04-16T15:12:08.268491",
          "exception": false,
          "start_time": "2021-04-16T15:12:08.230813",
          "status": "completed"
        },
        "tags": []
      },
      "source": [
        "# Metadata filtering with Pinecone\n",
        "\n",
        "Metadata filtering is a new feature in Pinecone that allows you to apply filters on vector search based on metadata.\n",
        "You can add the metadata to the embeddings within Pinecone, and then filter for those criteria when sending the query. Pinecone will search for similar vector embeddings only among those items that match the filter.\n",
        "The metadata filtering accepts arbitrary filters on metadata, and it retrieves exactly the number of nearest-neighbor results that match the filters. For most cases, the search latency will be even lower than unfiltered searches.\n",
        "\n",
        "In this notebook, we will walk through a simple use of filtering while performing vector search on documents."
      ]
    },
    {
      "cell_type": "markdown",
      "id": "atmospheric-wayne",
      "metadata": {
        "id": "atmospheric-wayne",
        "papermill": {
          "duration": 0.028014,
          "end_time": "2021-04-16T15:12:08.327699",
          "exception": false,
          "start_time": "2021-04-16T15:12:08.299685",
          "status": "completed"
        },
        "tags": []
      },
      "source": [
        "## Prerequisites"
      ]
    },
    {
      "cell_type": "markdown",
      "id": "emotional-lyric",
      "metadata": {
        "id": "emotional-lyric",
        "papermill": {
          "duration": 0.027173,
          "end_time": "2021-04-16T15:12:08.383073",
          "exception": false,
          "start_time": "2021-04-16T15:12:08.355900",
          "status": "completed"
        },
        "tags": []
      },
      "source": [
        "Install dependencies."
      ]
    },
    {
      "cell_type": "code",
      "execution_count": 1,
      "id": "pleasant-transfer",
      "metadata": {
        "execution": {
          "iopub.execute_input": "2021-04-16T15:12:08.445484Z",
          "iopub.status.busy": "2021-04-16T15:12:08.444722Z",
          "iopub.status.idle": "2021-04-16T15:12:24.290196Z",
          "shell.execute_reply": "2021-04-16T15:12:24.292389Z"
        },
        "id": "pleasant-transfer",
        "papermill": {
          "duration": 15.880968,
          "end_time": "2021-04-16T15:12:24.293137",
          "exception": false,
          "start_time": "2021-04-16T15:12:08.412169",
          "status": "completed"
        },
        "tags": []
      },
      "outputs": [],
      "source": [
        "!pip install -qU pinecone-client pandas"
      ]
    },
    {
      "cell_type": "markdown",
      "id": "moderate-distributor",
      "metadata": {
        "id": "moderate-distributor",
        "papermill": {
          "duration": 0.026427,
          "end_time": "2021-04-16T15:12:24.354705",
          "exception": false,
          "start_time": "2021-04-16T15:12:24.328278",
          "status": "completed"
        },
        "tags": []
      },
      "source": [
        "Set up Pinecone."
      ]
    },
    {
      "cell_type": "code",
      "execution_count": 2,
      "id": "ready-atlanta",
      "metadata": {
        "execution": {
          "iopub.execute_input": "2021-04-16T15:12:24.425139Z",
          "iopub.status.busy": "2021-04-16T15:12:24.424320Z",
          "iopub.status.idle": "2021-04-16T15:12:24.750583Z",
          "shell.execute_reply": "2021-04-16T15:12:24.750106Z"
        },
        "id": "ready-atlanta",
        "papermill": {
          "duration": 0.368403,
          "end_time": "2021-04-16T15:12:24.750927",
          "exception": false,
          "start_time": "2021-04-16T15:12:24.382524",
          "status": "completed"
        },
        "tags": [],
        "colab": {
          "base_uri": "https://localhost:8080/"
        },
        "outputId": "75619373-41f2-4dae-e696-3ef7caf4275d"
      },
      "outputs": [
        {
          "output_type": "stream",
          "name": "stderr",
          "text": [
            "/usr/local/lib/python3.10/dist-packages/pinecone/index.py:4: TqdmExperimentalWarning: Using `tqdm.autonotebook.tqdm` in notebook mode. Use `tqdm.tqdm` instead to force console mode (e.g. in jupyter console)\n",
            "  from tqdm.autonotebook import tqdm\n"
          ]
        }
      ],
      "source": [
        "import os\n",
        "import pinecone\n",
        "\n",
        "# get api key from app.pinecone.io\n",
        "api_key = os.environ.get('PINECONE_API_KEY') or 'YOUR_PINECONE_API_KEY'\n",
        "# find your environment next to the api key in pinecone console\n",
        "env = os.environ.get('PINECONE_ENVIRONMENT') or 'YOUR_PINECONE_ENVIRONMENT'\n",
        "\n",
        "pinecone.init(\n",
        "    api_key=api_key,\n",
        "    environment=env\n",
        ")"
      ]
    },
    {
      "cell_type": "markdown",
      "id": "yellow-airline",
      "metadata": {
        "id": "yellow-airline",
        "papermill": {
          "duration": 0.027283,
          "end_time": "2021-04-16T15:12:25.367243",
          "exception": false,
          "start_time": "2021-04-16T15:12:25.339960",
          "status": "completed"
        },
        "tags": []
      },
      "source": [
        "## Creating the Index"
      ]
    },
    {
      "cell_type": "code",
      "source": [
        "index_name = \"pinecone-metadata-filtering\""
      ],
      "metadata": {
        "id": "tvAzaNJZ1M8T"
      },
      "id": "tvAzaNJZ1M8T",
      "execution_count": 3,
      "outputs": []
    },
    {
      "cell_type": "code",
      "execution_count": 4,
      "id": "balanced-housing",
      "metadata": {
        "execution": {
          "iopub.execute_input": "2021-04-16T15:12:25.428720Z",
          "iopub.status.busy": "2021-04-16T15:12:25.427975Z",
          "iopub.status.idle": "2021-04-16T15:12:41.453928Z",
          "shell.execute_reply": "2021-04-16T15:12:41.453045Z"
        },
        "id": "balanced-housing",
        "papermill": {
          "duration": 16.057888,
          "end_time": "2021-04-16T15:12:41.454202",
          "exception": false,
          "start_time": "2021-04-16T15:12:25.396314",
          "status": "completed"
        },
        "tags": []
      },
      "outputs": [],
      "source": [
        "# Delete index if exists\n",
        "if index_name in pinecone.list_indexes():\n",
        "    pinecone.delete_index(index_name)\n",
        "\n",
        "# Create an index\n",
        "pinecone.create_index(name=index_name, dimension=2, metric=\"euclidean\", shards=1)"
      ]
    },
    {
      "cell_type": "code",
      "execution_count": 5,
      "id": "blvbpzBAxPJO",
      "metadata": {
        "execution": {
          "iopub.execute_input": "2021-04-16T15:12:41.529466Z",
          "iopub.status.busy": "2021-04-16T15:12:41.528443Z",
          "iopub.status.idle": "2021-04-16T15:12:42.356838Z",
          "shell.execute_reply": "2021-04-16T15:12:42.357714Z"
        },
        "id": "blvbpzBAxPJO",
        "papermill": {
          "duration": 0.869129,
          "end_time": "2021-04-16T15:12:42.358177",
          "exception": false,
          "start_time": "2021-04-16T15:12:41.489048",
          "status": "completed"
        },
        "tags": []
      },
      "outputs": [],
      "source": [
        "# Connect to the index\n",
        "index = pinecone.Index(index_name=index_name)"
      ]
    },
    {
      "cell_type": "markdown",
      "id": "improved-season",
      "metadata": {
        "id": "improved-season",
        "papermill": {
          "duration": 0.038949,
          "end_time": "2021-04-16T15:12:42.437637",
          "exception": false,
          "start_time": "2021-04-16T15:12:42.398688",
          "status": "completed"
        },
        "tags": []
      },
      "source": [
        "### Generate sample document data"
      ]
    },
    {
      "cell_type": "code",
      "execution_count": 6,
      "id": "disciplinary-district",
      "metadata": {
        "colab": {
          "base_uri": "https://localhost:8080/",
          "height": 175
        },
        "execution": {
          "iopub.execute_input": "2021-04-16T15:12:42.511608Z",
          "iopub.status.busy": "2021-04-16T15:12:42.510883Z",
          "iopub.status.idle": "2021-04-16T15:12:42.714783Z",
          "shell.execute_reply": "2021-04-16T15:12:42.715237Z"
        },
        "id": "disciplinary-district",
        "outputId": "18c71f33-a06f-4b71-c41b-5cf7b037d455",
        "papermill": {
          "duration": 0.24115,
          "end_time": "2021-04-16T15:12:42.715499",
          "exception": false,
          "start_time": "2021-04-16T15:12:42.474349",
          "status": "completed"
        },
        "tags": []
      },
      "outputs": [
        {
          "output_type": "execute_result",
          "data": {
            "text/plain": [
              "    id      vector                                    metadata\n",
              "0  F-1  [1.0, 1.0]  {'category': 'finance', 'published': 2015}\n",
              "1  F-2  [2.0, 2.0]  {'category': 'finance', 'published': 2016}\n",
              "2  S-1  [3.0, 3.0]    {'category': 'sport', 'published': 2017}\n",
              "3  S-2  [4.0, 4.0]    {'category': 'sport', 'published': 2018}"
            ],
            "text/html": [
              "\n",
              "\n",
              "  <div id=\"df-73a55b40-0a05-4e48-a0f9-b671826e5440\">\n",
              "    <div class=\"colab-df-container\">\n",
              "      <div>\n",
              "<style scoped>\n",
              "    .dataframe tbody tr th:only-of-type {\n",
              "        vertical-align: middle;\n",
              "    }\n",
              "\n",
              "    .dataframe tbody tr th {\n",
              "        vertical-align: top;\n",
              "    }\n",
              "\n",
              "    .dataframe thead th {\n",
              "        text-align: right;\n",
              "    }\n",
              "</style>\n",
              "<table border=\"1\" class=\"dataframe\">\n",
              "  <thead>\n",
              "    <tr style=\"text-align: right;\">\n",
              "      <th></th>\n",
              "      <th>id</th>\n",
              "      <th>vector</th>\n",
              "      <th>metadata</th>\n",
              "    </tr>\n",
              "  </thead>\n",
              "  <tbody>\n",
              "    <tr>\n",
              "      <th>0</th>\n",
              "      <td>F-1</td>\n",
              "      <td>[1.0, 1.0]</td>\n",
              "      <td>{'category': 'finance', 'published': 2015}</td>\n",
              "    </tr>\n",
              "    <tr>\n",
              "      <th>1</th>\n",
              "      <td>F-2</td>\n",
              "      <td>[2.0, 2.0]</td>\n",
              "      <td>{'category': 'finance', 'published': 2016}</td>\n",
              "    </tr>\n",
              "    <tr>\n",
              "      <th>2</th>\n",
              "      <td>S-1</td>\n",
              "      <td>[3.0, 3.0]</td>\n",
              "      <td>{'category': 'sport', 'published': 2017}</td>\n",
              "    </tr>\n",
              "    <tr>\n",
              "      <th>3</th>\n",
              "      <td>S-2</td>\n",
              "      <td>[4.0, 4.0]</td>\n",
              "      <td>{'category': 'sport', 'published': 2018}</td>\n",
              "    </tr>\n",
              "  </tbody>\n",
              "</table>\n",
              "</div>\n",
              "      <button class=\"colab-df-convert\" onclick=\"convertToInteractive('df-73a55b40-0a05-4e48-a0f9-b671826e5440')\"\n",
              "              title=\"Convert this dataframe to an interactive table.\"\n",
              "              style=\"display:none;\">\n",
              "\n",
              "  <svg xmlns=\"http://www.w3.org/2000/svg\" height=\"24px\"viewBox=\"0 0 24 24\"\n",
              "       width=\"24px\">\n",
              "    <path d=\"M0 0h24v24H0V0z\" fill=\"none\"/>\n",
              "    <path d=\"M18.56 5.44l.94 2.06.94-2.06 2.06-.94-2.06-.94-.94-2.06-.94 2.06-2.06.94zm-11 1L8.5 8.5l.94-2.06 2.06-.94-2.06-.94L8.5 2.5l-.94 2.06-2.06.94zm10 10l.94 2.06.94-2.06 2.06-.94-2.06-.94-.94-2.06-.94 2.06-2.06.94z\"/><path d=\"M17.41 7.96l-1.37-1.37c-.4-.4-.92-.59-1.43-.59-.52 0-1.04.2-1.43.59L10.3 9.45l-7.72 7.72c-.78.78-.78 2.05 0 2.83L4 21.41c.39.39.9.59 1.41.59.51 0 1.02-.2 1.41-.59l7.78-7.78 2.81-2.81c.8-.78.8-2.07 0-2.86zM5.41 20L4 18.59l7.72-7.72 1.47 1.35L5.41 20z\"/>\n",
              "  </svg>\n",
              "      </button>\n",
              "\n",
              "\n",
              "\n",
              "    <div id=\"df-8fe2489c-dbc9-43b3-a22b-500c7a66fec3\">\n",
              "      <button class=\"colab-df-quickchart\" onclick=\"quickchart('df-8fe2489c-dbc9-43b3-a22b-500c7a66fec3')\"\n",
              "              title=\"Suggest charts.\"\n",
              "              style=\"display:none;\">\n",
              "\n",
              "<svg xmlns=\"http://www.w3.org/2000/svg\" height=\"24px\"viewBox=\"0 0 24 24\"\n",
              "     width=\"24px\">\n",
              "    <g>\n",
              "        <path d=\"M19 3H5c-1.1 0-2 .9-2 2v14c0 1.1.9 2 2 2h14c1.1 0 2-.9 2-2V5c0-1.1-.9-2-2-2zM9 17H7v-7h2v7zm4 0h-2V7h2v10zm4 0h-2v-4h2v4z\"/>\n",
              "    </g>\n",
              "</svg>\n",
              "      </button>\n",
              "    </div>\n",
              "\n",
              "<style>\n",
              "  .colab-df-quickchart {\n",
              "    background-color: #E8F0FE;\n",
              "    border: none;\n",
              "    border-radius: 50%;\n",
              "    cursor: pointer;\n",
              "    display: none;\n",
              "    fill: #1967D2;\n",
              "    height: 32px;\n",
              "    padding: 0 0 0 0;\n",
              "    width: 32px;\n",
              "  }\n",
              "\n",
              "  .colab-df-quickchart:hover {\n",
              "    background-color: #E2EBFA;\n",
              "    box-shadow: 0px 1px 2px rgba(60, 64, 67, 0.3), 0px 1px 3px 1px rgba(60, 64, 67, 0.15);\n",
              "    fill: #174EA6;\n",
              "  }\n",
              "\n",
              "  [theme=dark] .colab-df-quickchart {\n",
              "    background-color: #3B4455;\n",
              "    fill: #D2E3FC;\n",
              "  }\n",
              "\n",
              "  [theme=dark] .colab-df-quickchart:hover {\n",
              "    background-color: #434B5C;\n",
              "    box-shadow: 0px 1px 3px 1px rgba(0, 0, 0, 0.15);\n",
              "    filter: drop-shadow(0px 1px 2px rgba(0, 0, 0, 0.3));\n",
              "    fill: #FFFFFF;\n",
              "  }\n",
              "</style>\n",
              "\n",
              "    <script>\n",
              "      async function quickchart(key) {\n",
              "        const containerElement = document.querySelector('#' + key);\n",
              "        const charts = await google.colab.kernel.invokeFunction(\n",
              "            'suggestCharts', [key], {});\n",
              "      }\n",
              "    </script>\n",
              "\n",
              "      <script>\n",
              "\n",
              "function displayQuickchartButton(domScope) {\n",
              "  let quickchartButtonEl =\n",
              "    domScope.querySelector('#df-8fe2489c-dbc9-43b3-a22b-500c7a66fec3 button.colab-df-quickchart');\n",
              "  quickchartButtonEl.style.display =\n",
              "    google.colab.kernel.accessAllowed ? 'block' : 'none';\n",
              "}\n",
              "\n",
              "        displayQuickchartButton(document);\n",
              "      </script>\n",
              "      <style>\n",
              "    .colab-df-container {\n",
              "      display:flex;\n",
              "      flex-wrap:wrap;\n",
              "      gap: 12px;\n",
              "    }\n",
              "\n",
              "    .colab-df-convert {\n",
              "      background-color: #E8F0FE;\n",
              "      border: none;\n",
              "      border-radius: 50%;\n",
              "      cursor: pointer;\n",
              "      display: none;\n",
              "      fill: #1967D2;\n",
              "      height: 32px;\n",
              "      padding: 0 0 0 0;\n",
              "      width: 32px;\n",
              "    }\n",
              "\n",
              "    .colab-df-convert:hover {\n",
              "      background-color: #E2EBFA;\n",
              "      box-shadow: 0px 1px 2px rgba(60, 64, 67, 0.3), 0px 1px 3px 1px rgba(60, 64, 67, 0.15);\n",
              "      fill: #174EA6;\n",
              "    }\n",
              "\n",
              "    [theme=dark] .colab-df-convert {\n",
              "      background-color: #3B4455;\n",
              "      fill: #D2E3FC;\n",
              "    }\n",
              "\n",
              "    [theme=dark] .colab-df-convert:hover {\n",
              "      background-color: #434B5C;\n",
              "      box-shadow: 0px 1px 3px 1px rgba(0, 0, 0, 0.15);\n",
              "      filter: drop-shadow(0px 1px 2px rgba(0, 0, 0, 0.3));\n",
              "      fill: #FFFFFF;\n",
              "    }\n",
              "  </style>\n",
              "\n",
              "      <script>\n",
              "        const buttonEl =\n",
              "          document.querySelector('#df-73a55b40-0a05-4e48-a0f9-b671826e5440 button.colab-df-convert');\n",
              "        buttonEl.style.display =\n",
              "          google.colab.kernel.accessAllowed ? 'block' : 'none';\n",
              "\n",
              "        async function convertToInteractive(key) {\n",
              "          const element = document.querySelector('#df-73a55b40-0a05-4e48-a0f9-b671826e5440');\n",
              "          const dataTable =\n",
              "            await google.colab.kernel.invokeFunction('convertToInteractive',\n",
              "                                                     [key], {});\n",
              "          if (!dataTable) return;\n",
              "\n",
              "          const docLinkHtml = 'Like what you see? Visit the ' +\n",
              "            '<a target=\"_blank\" href=https://colab.research.google.com/notebooks/data_table.ipynb>data table notebook</a>'\n",
              "            + ' to learn more about interactive tables.';\n",
              "          element.innerHTML = '';\n",
              "          dataTable['output_type'] = 'display_data';\n",
              "          await google.colab.output.renderOutput(dataTable, element);\n",
              "          const docLink = document.createElement('div');\n",
              "          docLink.innerHTML = docLinkHtml;\n",
              "          element.appendChild(docLink);\n",
              "        }\n",
              "      </script>\n",
              "    </div>\n",
              "  </div>\n"
            ]
          },
          "metadata": {},
          "execution_count": 6
        }
      ],
      "source": [
        "# Generate some data\n",
        "import pandas as pd\n",
        "\n",
        "df = pd.DataFrame()\n",
        "df[\"id\"] = [\"F-1\", \"F-2\", \"S-1\", \"S-2\"]\n",
        "df[\"vector\"] = [[1., 1.], [2., 2.], [3., 3.], [4., 4.]]\n",
        "df[\"metadata\"] = [\n",
        "    {\"category\": \"finance\", \"published\": 2015},\n",
        "    {\"category\": \"finance\", \"published\": 2016},\n",
        "    {\"category\": \"sport\", \"published\": 2017},\n",
        "    {\"category\": \"sport\", \"published\": 2018}]\n",
        "df"
      ]
    },
    {
      "cell_type": "markdown",
      "id": "leading-flesh",
      "metadata": {
        "id": "leading-flesh",
        "papermill": {
          "duration": 0.030901,
          "end_time": "2021-04-16T15:12:42.777653",
          "exception": false,
          "start_time": "2021-04-16T15:12:42.746752",
          "status": "completed"
        },
        "tags": []
      },
      "source": [
        "### Insert vectors"
      ]
    },
    {
      "cell_type": "code",
      "execution_count": 7,
      "id": "nearby-skiing",
      "metadata": {
        "colab": {
          "base_uri": "https://localhost:8080/"
        },
        "execution": {
          "iopub.execute_input": "2021-04-16T15:12:42.842654Z",
          "iopub.status.busy": "2021-04-16T15:12:42.841906Z",
          "iopub.status.idle": "2021-04-16T15:12:44.463755Z",
          "shell.execute_reply": "2021-04-16T15:12:44.458846Z"
        },
        "id": "nearby-skiing",
        "outputId": "14429202-edbe-471d-81e2-72adbdab05d6",
        "papermill": {
          "duration": 1.65623,
          "end_time": "2021-04-16T15:12:44.464926",
          "exception": false,
          "start_time": "2021-04-16T15:12:42.808696",
          "status": "completed"
        },
        "tags": []
      },
      "outputs": [
        {
          "output_type": "execute_result",
          "data": {
            "text/plain": [
              "{'dimension': 2,\n",
              " 'index_fullness': 0.0,\n",
              " 'namespaces': {'': {'vector_count': 4}},\n",
              " 'total_vector_count': 4}"
            ]
          },
          "metadata": {},
          "execution_count": 7
        }
      ],
      "source": [
        "# Insert vectors without specifying a namespace\n",
        "index.upsert(vectors=zip(df.id, df.vector, df.metadata))\n",
        "index.describe_index_stats()"
      ]
    },
    {
      "cell_type": "markdown",
      "id": "large-tunisia",
      "metadata": {
        "id": "large-tunisia",
        "papermill": {
          "duration": 0.033445,
          "end_time": "2021-04-16T15:12:44.537290",
          "exception": false,
          "start_time": "2021-04-16T15:12:44.503845",
          "status": "completed"
        },
        "tags": []
      },
      "source": [
        "### Fetch a vector"
      ]
    },
    {
      "cell_type": "code",
      "execution_count": 8,
      "id": "d1855c4f",
      "metadata": {
        "id": "d1855c4f",
        "outputId": "bacc2e50-9725-4477-ecac-a90daf084f42",
        "colab": {
          "base_uri": "https://localhost:8080/"
        }
      },
      "outputs": [
        {
          "output_type": "execute_result",
          "data": {
            "text/plain": [
              "{'namespace': '',\n",
              " 'vectors': {'F-1': {'id': 'F-1',\n",
              "                     'metadata': {'category': 'finance', 'published': 2015.0},\n",
              "                     'values': [1.0, 1.0]}}}"
            ]
          },
          "metadata": {},
          "execution_count": 8
        }
      ],
      "source": [
        "index.fetch(ids=[\"F-1\"])"
      ]
    },
    {
      "cell_type": "markdown",
      "id": "eight-sixth",
      "metadata": {
        "id": "eight-sixth",
        "papermill": {
          "duration": 0.032846,
          "end_time": "2021-04-16T15:12:44.963008",
          "exception": false,
          "start_time": "2021-04-16T15:12:44.930162",
          "status": "completed"
        },
        "tags": []
      },
      "source": [
        "### Query top-3 without filtering"
      ]
    },
    {
      "cell_type": "code",
      "execution_count": 9,
      "id": "timely-allen",
      "metadata": {
        "colab": {
          "base_uri": "https://localhost:8080/"
        },
        "execution": {
          "iopub.execute_input": "2021-04-16T15:12:45.035032Z",
          "iopub.status.busy": "2021-04-16T15:12:45.034363Z",
          "iopub.status.idle": "2021-04-16T15:12:45.147905Z",
          "shell.execute_reply": "2021-04-16T15:12:45.146636Z"
        },
        "id": "timely-allen",
        "outputId": "de5aa09b-f111-4e08-9f2a-612b9058a456",
        "papermill": {
          "duration": 0.152593,
          "end_time": "2021-04-16T15:12:45.148326",
          "exception": false,
          "start_time": "2021-04-16T15:12:44.995733",
          "status": "completed"
        },
        "tags": []
      },
      "outputs": [
        {
          "output_type": "execute_result",
          "data": {
            "text/plain": [
              "{'results': [{'matches': [{'id': 'F-1', 'score': 0.0, 'values': []},\n",
              "                          {'id': 'F-2', 'score': 1.99999905, 'values': []},\n",
              "                          {'id': 'S-1', 'score': 7.99999809, 'values': []}],\n",
              "              'namespace': ''}]}"
            ]
          },
          "metadata": {},
          "execution_count": 9
        }
      ],
      "source": [
        "query_results = index.query(queries=df[df.id == \"F-1\"].vector, top_k=3)\n",
        "query_results"
      ]
    },
    {
      "cell_type": "markdown",
      "id": "arabic-shooting",
      "metadata": {
        "id": "arabic-shooting",
        "papermill": {
          "duration": 0.034931,
          "end_time": "2021-04-16T15:12:45.223865",
          "exception": false,
          "start_time": "2021-04-16T15:12:45.188934",
          "status": "completed"
        },
        "tags": []
      },
      "source": [
        "### Query results with articles in finance published after 2015\n",
        "\n",
        "We should expect to see only 1 article that matches this query."
      ]
    },
    {
      "cell_type": "code",
      "execution_count": 10,
      "id": "stuck-hardware",
      "metadata": {
        "colab": {
          "base_uri": "https://localhost:8080/"
        },
        "execution": {
          "iopub.execute_input": "2021-04-16T15:12:45.302733Z",
          "iopub.status.busy": "2021-04-16T15:12:45.300355Z",
          "iopub.status.idle": "2021-04-16T15:12:45.411744Z",
          "shell.execute_reply": "2021-04-16T15:12:45.410749Z"
        },
        "id": "stuck-hardware",
        "outputId": "d96badde-d376-4e38-b265-16429c491bcc",
        "papermill": {
          "duration": 0.151954,
          "end_time": "2021-04-16T15:12:45.412130",
          "exception": false,
          "start_time": "2021-04-16T15:12:45.260176",
          "status": "completed"
        },
        "tags": []
      },
      "outputs": [
        {
          "output_type": "execute_result",
          "data": {
            "text/plain": [
              "{'results': [{'matches': [{'id': 'F-2', 'score': 1.99999905, 'values': []}],\n",
              "              'namespace': ''}]}"
            ]
          },
          "metadata": {},
          "execution_count": 10
        }
      ],
      "source": [
        "filter_condition = {\n",
        "    \"category\" : {\"$eq\": \"finance\"},\n",
        "    \"published\": {\"$gt\": 2015 }\n",
        "}\n",
        "query_results = index.query(\n",
        "    queries=df[df.id == \"F-1\"].vector, top_k=3, filter=filter_condition\n",
        ")\n",
        "query_results"
      ]
    },
    {
      "cell_type": "markdown",
      "id": "geological-competition",
      "metadata": {
        "id": "geological-competition",
        "papermill": {
          "duration": 0.035328,
          "end_time": "2021-04-16T15:12:45.490265",
          "exception": false,
          "start_time": "2021-04-16T15:12:45.454937",
          "status": "completed"
        },
        "tags": []
      },
      "source": [
        "### Delete the index"
      ]
    },
    {
      "cell_type": "code",
      "execution_count": 11,
      "id": "valuable-rehabilitation",
      "metadata": {
        "execution": {
          "iopub.execute_input": "2021-04-16T15:12:45.567258Z",
          "iopub.status.busy": "2021-04-16T15:12:45.566027Z",
          "iopub.status.idle": "2021-04-16T15:12:58.139410Z",
          "shell.execute_reply": "2021-04-16T15:12:58.138501Z"
        },
        "id": "valuable-rehabilitation",
        "papermill": {
          "duration": 12.613954,
          "end_time": "2021-04-16T15:12:58.139886",
          "exception": false,
          "start_time": "2021-04-16T15:12:45.525932",
          "status": "completed"
        },
        "tags": []
      },
      "outputs": [],
      "source": [
        "# delete the index\n",
        "pinecone.delete_index(index_name)"
      ]
    }
  ],
  "metadata": {
    "colab": {
      "provenance": []
    },
    "kernelspec": {
      "display_name": "Python 3",
      "language": "python",
      "name": "python3"
    },
    "language_info": {
      "codemirror_mode": {
        "name": "ipython",
        "version": 3
      },
      "file_extension": ".py",
      "mimetype": "text/x-python",
      "name": "python",
      "nbconvert_exporter": "python",
      "pygments_lexer": "ipython3",
      "version": "3.7.9"
    },
    "papermill": {
      "default_parameters": {},
      "duration": 51.37705,
      "end_time": "2021-04-16T15:12:58.702015",
      "environment_variables": {},
      "exception": null,
      "input_path": "/notebooks/quick_tour/namespacing.ipynb",
      "output_path": "/notebooks/tmp/quick_tour/namespacing.ipynb",
      "parameters": {},
      "start_time": "2021-04-16T15:12:07.324965",
      "version": "2.3.3"
    }
  },
  "nbformat": 4,
  "nbformat_minor": 5
}